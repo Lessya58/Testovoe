{
 "cells": [
  {
   "cell_type": "markdown",
   "metadata": {},
   "source": [
    "Импортируем необходимые для работы библиотеки."
   ]
  },
  {
   "cell_type": "code",
   "execution_count": 3,
   "metadata": {},
   "outputs": [],
   "source": [
    "import pandas as pd\n",
    "import matplotlib.pyplot as plt\n",
    "import seaborn as sns\n",
    "import numpy as np\n",
    "import warnings\n",
    "warnings.filterwarnings('ignore')"
   ]
  },
  {
   "cell_type": "markdown",
   "metadata": {},
   "source": [
    "Откроем предоставленные файлы и изучим общую информацию."
   ]
  },
  {
   "cell_type": "code",
   "execution_count": 4,
   "metadata": {},
   "outputs": [
    {
     "name": "stdout",
     "output_type": "stream",
     "text": [
      "<class 'pandas.core.frame.DataFrame'>\n",
      "RangeIndex: 114200 entries, 0 to 114199\n",
      "Data columns (total 5 columns):\n",
      " #   Column           Non-Null Count   Dtype         \n",
      "---  ------           --------------   -----         \n",
      " 0   product_id       114200 non-null  object        \n",
      " 1   quantity         114200 non-null  int64         \n",
      " 2   is_trial_period  114200 non-null  bool          \n",
      " 3   purchase_date    114200 non-null  datetime64[ns]\n",
      " 4   user_id          114200 non-null  int64         \n",
      "dtypes: bool(1), datetime64[ns](1), int64(2), object(1)\n",
      "memory usage: 3.6+ MB\n"
     ]
    },
    {
     "data": {
      "text/html": [
       "<div>\n",
       "<style scoped>\n",
       "    .dataframe tbody tr th:only-of-type {\n",
       "        vertical-align: middle;\n",
       "    }\n",
       "\n",
       "    .dataframe tbody tr th {\n",
       "        vertical-align: top;\n",
       "    }\n",
       "\n",
       "    .dataframe thead th {\n",
       "        text-align: right;\n",
       "    }\n",
       "</style>\n",
       "<table border=\"1\" class=\"dataframe\">\n",
       "  <thead>\n",
       "    <tr style=\"text-align: right;\">\n",
       "      <th></th>\n",
       "      <th>product_id</th>\n",
       "      <th>quantity</th>\n",
       "      <th>is_trial_period</th>\n",
       "      <th>purchase_date</th>\n",
       "      <th>user_id</th>\n",
       "    </tr>\n",
       "  </thead>\n",
       "  <tbody>\n",
       "    <tr>\n",
       "      <th>0</th>\n",
       "      <td>1week_4.99_USD_subscription_7days_trial</td>\n",
       "      <td>1</td>\n",
       "      <td>False</td>\n",
       "      <td>2020-02-19</td>\n",
       "      <td>9484222</td>\n",
       "    </tr>\n",
       "    <tr>\n",
       "      <th>1</th>\n",
       "      <td>1week_4.99_USD_subscription_7days_trial</td>\n",
       "      <td>1</td>\n",
       "      <td>False</td>\n",
       "      <td>2020-02-17</td>\n",
       "      <td>9422402</td>\n",
       "    </tr>\n",
       "    <tr>\n",
       "      <th>2</th>\n",
       "      <td>1week_4.99_USD_subscription_7days_trial</td>\n",
       "      <td>1</td>\n",
       "      <td>False</td>\n",
       "      <td>2020-02-18</td>\n",
       "      <td>4997991</td>\n",
       "    </tr>\n",
       "    <tr>\n",
       "      <th>3</th>\n",
       "      <td>1week_4.99_USD_subscription_7days_trial</td>\n",
       "      <td>1</td>\n",
       "      <td>False</td>\n",
       "      <td>2020-02-18</td>\n",
       "      <td>9455582</td>\n",
       "    </tr>\n",
       "    <tr>\n",
       "      <th>4</th>\n",
       "      <td>1week_4.99_USD_subscription_7days_trial</td>\n",
       "      <td>1</td>\n",
       "      <td>False</td>\n",
       "      <td>2020-02-16</td>\n",
       "      <td>8803657</td>\n",
       "    </tr>\n",
       "  </tbody>\n",
       "</table>\n",
       "</div>"
      ],
      "text/plain": [
       "                                product_id  quantity  is_trial_period  \\\n",
       "0  1week_4.99_USD_subscription_7days_trial         1            False   \n",
       "1  1week_4.99_USD_subscription_7days_trial         1            False   \n",
       "2  1week_4.99_USD_subscription_7days_trial         1            False   \n",
       "3  1week_4.99_USD_subscription_7days_trial         1            False   \n",
       "4  1week_4.99_USD_subscription_7days_trial         1            False   \n",
       "\n",
       "  purchase_date  user_id  \n",
       "0    2020-02-19  9484222  \n",
       "1    2020-02-17  9422402  \n",
       "2    2020-02-18  4997991  \n",
       "3    2020-02-18  9455582  \n",
       "4    2020-02-16  8803657  "
      ]
     },
     "execution_count": 4,
     "metadata": {},
     "output_type": "execute_result"
    }
   ],
   "source": [
    "df = pd.read_excel('/Users/zvizda/test.xlsx')\n",
    "df.info()\n",
    "df.head()"
   ]
  },
  {
   "cell_type": "markdown",
   "metadata": {},
   "source": [
    "В таблице 5 столбцов и 114200 строк. Пропусков нет."
   ]
  },
  {
   "cell_type": "markdown",
   "metadata": {},
   "source": [
    "Проведем проверку на дубликаты"
   ]
  },
  {
   "cell_type": "code",
   "execution_count": 5,
   "metadata": {},
   "outputs": [
    {
     "name": "stdout",
     "output_type": "stream",
     "text": [
      "<class 'pandas.core.frame.DataFrame'>\n",
      "Int64Index: 84 entries, 4557 to 113387\n",
      "Data columns (total 5 columns):\n",
      " #   Column           Non-Null Count  Dtype         \n",
      "---  ------           --------------  -----         \n",
      " 0   product_id       84 non-null     object        \n",
      " 1   quantity         84 non-null     int64         \n",
      " 2   is_trial_period  84 non-null     bool          \n",
      " 3   purchase_date    84 non-null     datetime64[ns]\n",
      " 4   user_id          84 non-null     int64         \n",
      "dtypes: bool(1), datetime64[ns](1), int64(2), object(1)\n",
      "memory usage: 3.4+ KB\n"
     ]
    }
   ],
   "source": [
    "dupl = df[df.duplicated()]\n",
    "dupl.info()"
   ]
  },
  {
   "cell_type": "markdown",
   "metadata": {},
   "source": [
    "Обнаружено 84 повторяющие строки. то есть клиент оплатил подписку несколько раз. нужно разбираться в причинах. Для дальнейшего анализа дубликаты убираем."
   ]
  },
  {
   "cell_type": "code",
   "execution_count": 6,
   "metadata": {},
   "outputs": [
    {
     "name": "stdout",
     "output_type": "stream",
     "text": [
      "<class 'pandas.core.frame.DataFrame'>\n",
      "Int64Index: 114116 entries, 0 to 114199\n",
      "Data columns (total 5 columns):\n",
      " #   Column           Non-Null Count   Dtype         \n",
      "---  ------           --------------   -----         \n",
      " 0   product_id       114116 non-null  object        \n",
      " 1   quantity         114116 non-null  int64         \n",
      " 2   is_trial_period  114116 non-null  bool          \n",
      " 3   purchase_date    114116 non-null  datetime64[ns]\n",
      " 4   user_id          114116 non-null  int64         \n",
      "dtypes: bool(1), datetime64[ns](1), int64(2), object(1)\n",
      "memory usage: 4.5+ MB\n"
     ]
    }
   ],
   "source": [
    "df_new = df.drop_duplicates()\n",
    "df_new.info()"
   ]
  },
  {
   "cell_type": "markdown",
   "metadata": {},
   "source": [
    "Посмотрим какие значение есть в столбцах."
   ]
  },
  {
   "cell_type": "code",
   "execution_count": 7,
   "metadata": {},
   "outputs": [
    {
     "data": {
      "text/plain": [
       "array([1])"
      ]
     },
     "execution_count": 7,
     "metadata": {},
     "output_type": "execute_result"
    }
   ],
   "source": [
    "df_new['quantity'].unique()"
   ]
  },
  {
   "cell_type": "markdown",
   "metadata": {},
   "source": [
    "весь столбец заполнен значением 1. Данная информация не нужна для исследования. Удалим столбец"
   ]
  },
  {
   "cell_type": "code",
   "execution_count": 8,
   "metadata": {},
   "outputs": [
    {
     "data": {
      "text/plain": [
       "array([False,  True])"
      ]
     },
     "execution_count": 8,
     "metadata": {},
     "output_type": "execute_result"
    }
   ],
   "source": [
    "df_new['is_trial_period'].unique()"
   ]
  },
  {
   "cell_type": "markdown",
   "metadata": {},
   "source": [
    "значения столбца совпадают с условием задачи, лишних значений нет."
   ]
  },
  {
   "cell_type": "code",
   "execution_count": 9,
   "metadata": {},
   "outputs": [
    {
     "data": {
      "text/plain": [
       "array(['1week_4.99_USD_subscription_7days_trial'], dtype=object)"
      ]
     },
     "execution_count": 9,
     "metadata": {},
     "output_type": "execute_result"
    }
   ],
   "source": [
    "df_new['product_id'].unique()"
   ]
  },
  {
   "cell_type": "markdown",
   "metadata": {},
   "source": [
    "Тоже только одно значение в колонке. Удалим и ее."
   ]
  },
  {
   "cell_type": "code",
   "execution_count": 10,
   "metadata": {},
   "outputs": [],
   "source": [
    "df_new = df_new[['is_trial_period', 'purchase_date', 'user_id']]"
   ]
  },
  {
   "cell_type": "markdown",
   "metadata": {},
   "source": [
    "Посмотрим за какой промежуток предоставлены данные."
   ]
  },
  {
   "cell_type": "code",
   "execution_count": 11,
   "metadata": {},
   "outputs": [
    {
     "data": {
      "text/plain": [
       "count                  114116\n",
       "unique                     51\n",
       "top       2020-02-13 00:00:00\n",
       "freq                     3343\n",
       "first     2020-01-01 00:00:00\n",
       "last      2020-02-20 00:00:00\n",
       "Name: purchase_date, dtype: object"
      ]
     },
     "execution_count": 11,
     "metadata": {},
     "output_type": "execute_result"
    }
   ],
   "source": [
    "df_new['purchase_date'].describe()"
   ]
  },
  {
   "cell_type": "markdown",
   "metadata": {},
   "source": [
    "В нашем распоряжении есть данные с 01 января 2020 по 20 февраля 2020"
   ]
  },
  {
   "cell_type": "markdown",
   "metadata": {},
   "source": [
    "Разделим таблицу на две, в зависимости от значения столбца \"is_trial_period\""
   ]
  },
  {
   "cell_type": "code",
   "execution_count": 12,
   "metadata": {},
   "outputs": [
    {
     "name": "stdout",
     "output_type": "stream",
     "text": [
      "<class 'pandas.core.frame.DataFrame'>\n",
      "Int64Index: 62944 entries, 2601 to 114199\n",
      "Data columns (total 2 columns):\n",
      " #   Column         Non-Null Count  Dtype         \n",
      "---  ------         --------------  -----         \n",
      " 0   purchase_date  62944 non-null  datetime64[ns]\n",
      " 1   user_id        62944 non-null  int64         \n",
      "dtypes: datetime64[ns](1), int64(1)\n",
      "memory usage: 1.4 MB\n"
     ]
    }
   ],
   "source": [
    "visits = df_new.query('is_trial_period == True')\n",
    "visits = visits[['purchase_date', 'user_id']]\n",
    "visits.info()"
   ]
  },
  {
   "cell_type": "code",
   "execution_count": 13,
   "metadata": {},
   "outputs": [
    {
     "name": "stdout",
     "output_type": "stream",
     "text": [
      "<class 'pandas.core.frame.DataFrame'>\n",
      "Int64Index: 51172 entries, 0 to 114162\n",
      "Data columns (total 2 columns):\n",
      " #   Column         Non-Null Count  Dtype         \n",
      "---  ------         --------------  -----         \n",
      " 0   purchase_date  51172 non-null  datetime64[ns]\n",
      " 1   user_id        51172 non-null  int64         \n",
      "dtypes: datetime64[ns](1), int64(1)\n",
      "memory usage: 1.2 MB\n"
     ]
    }
   ],
   "source": [
    "orders = df_new.query('is_trial_period == False')\n",
    "orders = orders[['purchase_date', 'user_id']]\n",
    "orders.info()"
   ]
  },
  {
   "cell_type": "markdown",
   "metadata": {},
   "source": [
    "Разделим пользователей на когорты Пусть признаком принадлежности к определенной когорте будет неделя пробного периода. Представленные данные ровно на недели не деляться, поэтому оставим только целые недели со среды до вторника."
   ]
  },
  {
   "cell_type": "code",
   "execution_count": 14,
   "metadata": {},
   "outputs": [
    {
     "name": "stdout",
     "output_type": "stream",
     "text": [
      "<class 'pandas.core.frame.DataFrame'>\n",
      "Int64Index: 61389 entries, 2601 to 114199\n",
      "Data columns (total 2 columns):\n",
      " #   Column         Non-Null Count  Dtype         \n",
      "---  ------         --------------  -----         \n",
      " 0   purchase_date  61389 non-null  datetime64[ns]\n",
      " 1   user_id        61389 non-null  int64         \n",
      "dtypes: datetime64[ns](1), int64(1)\n",
      "memory usage: 1.4 MB\n",
      "<class 'pandas.core.frame.DataFrame'>\n",
      "Int64Index: 48604 entries, 1 to 114162\n",
      "Data columns (total 2 columns):\n",
      " #   Column         Non-Null Count  Dtype         \n",
      "---  ------         --------------  -----         \n",
      " 0   purchase_date  48604 non-null  datetime64[ns]\n",
      " 1   user_id        48604 non-null  int64         \n",
      "dtypes: datetime64[ns](1), int64(1)\n",
      "memory usage: 1.1 MB\n"
     ]
    }
   ],
   "source": [
    "visits_new = visits[visits['purchase_date'] < '2020-02-19']\n",
    "visits_new.info()\n",
    "orders_new = orders[orders['purchase_date'] < '2020-02-19']\n",
    "orders_new.info()"
   ]
  },
  {
   "cell_type": "markdown",
   "metadata": {},
   "source": [
    "Проставим дату конца недели для каждого пользоваателя."
   ]
  },
  {
   "cell_type": "code",
   "execution_count": 15,
   "metadata": {},
   "outputs": [
    {
     "data": {
      "text/html": [
       "<div>\n",
       "<style scoped>\n",
       "    .dataframe tbody tr th:only-of-type {\n",
       "        vertical-align: middle;\n",
       "    }\n",
       "\n",
       "    .dataframe tbody tr th {\n",
       "        vertical-align: top;\n",
       "    }\n",
       "\n",
       "    .dataframe thead th {\n",
       "        text-align: right;\n",
       "    }\n",
       "</style>\n",
       "<table border=\"1\" class=\"dataframe\">\n",
       "  <thead>\n",
       "    <tr style=\"text-align: right;\">\n",
       "      <th></th>\n",
       "      <th>purchase_date</th>\n",
       "      <th>user_id</th>\n",
       "      <th>week</th>\n",
       "    </tr>\n",
       "  </thead>\n",
       "  <tbody>\n",
       "    <tr>\n",
       "      <th>2601</th>\n",
       "      <td>2020-02-10</td>\n",
       "      <td>9429240</td>\n",
       "      <td>2020-02-11</td>\n",
       "    </tr>\n",
       "    <tr>\n",
       "      <th>2602</th>\n",
       "      <td>2020-01-14</td>\n",
       "      <td>6629221</td>\n",
       "      <td>2020-01-14</td>\n",
       "    </tr>\n",
       "    <tr>\n",
       "      <th>2603</th>\n",
       "      <td>2020-01-07</td>\n",
       "      <td>8428489</td>\n",
       "      <td>2020-01-07</td>\n",
       "    </tr>\n",
       "    <tr>\n",
       "      <th>2604</th>\n",
       "      <td>2020-02-05</td>\n",
       "      <td>9294519</td>\n",
       "      <td>2020-02-11</td>\n",
       "    </tr>\n",
       "    <tr>\n",
       "      <th>2605</th>\n",
       "      <td>2020-02-14</td>\n",
       "      <td>7611125</td>\n",
       "      <td>2020-02-18</td>\n",
       "    </tr>\n",
       "  </tbody>\n",
       "</table>\n",
       "</div>"
      ],
      "text/plain": [
       "     purchase_date  user_id        week\n",
       "2601    2020-02-10  9429240  2020-02-11\n",
       "2602    2020-01-14  6629221  2020-01-14\n",
       "2603    2020-01-07  8428489  2020-01-07\n",
       "2604    2020-02-05  9294519  2020-02-11\n",
       "2605    2020-02-14  7611125  2020-02-18"
      ]
     },
     "execution_count": 15,
     "metadata": {},
     "output_type": "execute_result"
    }
   ],
   "source": [
    "def ser(i):\n",
    "    t = i['purchase_date']\n",
    "    if t < pd.to_datetime('2020-01-08'):\n",
    "        return '2020-01-07'\n",
    "    elif pd.to_datetime('2020-01-15') > t >= pd.to_datetime('2020-01-08'):\n",
    "        return '2020-01-14'\n",
    "    elif pd.to_datetime('2020-01-22') > t >= pd.to_datetime('2020-01-15'):\n",
    "        return '2020-01-21'\n",
    "    elif pd.to_datetime('2020-01-29') > t >= pd.to_datetime('2020-01-22'):\n",
    "        return '2020-01-28'\n",
    "    elif pd.to_datetime('2020-02-05') > t >= pd.to_datetime('2020-01-29'):\n",
    "        return '2020-02-04'\n",
    "    elif pd.to_datetime('2020-02-12') > t >= pd.to_datetime('2020-02-05'):\n",
    "        return '2020-02-11'\n",
    "    elif pd.to_datetime('2020-02-19') > t >= pd.to_datetime('2020-02-12'):\n",
    "        return '2020-02-18'\n",
    "    else:\n",
    "        return 'W'\n",
    "visits_new['week'] = visits_new.apply(ser, axis = 1)\n",
    "visits_new.head(5)"
   ]
  },
  {
   "cell_type": "markdown",
   "metadata": {},
   "source": [
    "Переведем в формат даты."
   ]
  },
  {
   "cell_type": "code",
   "execution_count": 16,
   "metadata": {},
   "outputs": [
    {
     "name": "stdout",
     "output_type": "stream",
     "text": [
      "<class 'pandas.core.frame.DataFrame'>\n",
      "Int64Index: 61389 entries, 2601 to 114199\n",
      "Data columns (total 3 columns):\n",
      " #   Column         Non-Null Count  Dtype         \n",
      "---  ------         --------------  -----         \n",
      " 0   purchase_date  61389 non-null  datetime64[ns]\n",
      " 1   user_id        61389 non-null  int64         \n",
      " 2   week           61389 non-null  datetime64[ns]\n",
      "dtypes: datetime64[ns](2), int64(1)\n",
      "memory usage: 1.9 MB\n"
     ]
    }
   ],
   "source": [
    "visits_new['week'] = pd.to_datetime(visits_new['week'],format = '%Y-%m-%d')\n",
    "visits_new.info()"
   ]
  },
  {
   "cell_type": "markdown",
   "metadata": {},
   "source": [
    "Проверим у всех ли пользователей был только 1 пробный период. "
   ]
  },
  {
   "cell_type": "code",
   "execution_count": 17,
   "metadata": {},
   "outputs": [
    {
     "data": {
      "text/plain": [
       "array([1, 2])"
      ]
     },
     "execution_count": 17,
     "metadata": {},
     "output_type": "execute_result"
    }
   ],
   "source": [
    "first_reg = visits_new.groupby('user_id')['week'].count().reset_index()\n",
    "first_reg['week'].unique()"
   ]
  },
  {
   "cell_type": "code",
   "execution_count": 18,
   "metadata": {},
   "outputs": [
    {
     "name": "stdout",
     "output_type": "stream",
     "text": [
      "<class 'pandas.core.frame.DataFrame'>\n",
      "Int64Index: 34 entries, 2274 to 53832\n",
      "Data columns (total 2 columns):\n",
      " #   Column   Non-Null Count  Dtype\n",
      "---  ------   --------------  -----\n",
      " 0   user_id  34 non-null     int64\n",
      " 1   week     34 non-null     int64\n",
      "dtypes: int64(2)\n",
      "memory usage: 816.0 bytes\n"
     ]
    }
   ],
   "source": [
    "dupl_visit = first_reg.query('week == 2')\n",
    "dupl_visit.info()"
   ]
  },
  {
   "cell_type": "markdown",
   "metadata": {},
   "source": [
    "34 пользователей дважды получали пробный бесплатный период. Стоит найти id этих пользователей и понять почему так получилось, для дальнейших исследований уберем информацию о них из данных."
   ]
  },
  {
   "cell_type": "code",
   "execution_count": 19,
   "metadata": {},
   "outputs": [
    {
     "name": "stdout",
     "output_type": "stream",
     "text": [
      "<class 'pandas.core.frame.DataFrame'>\n",
      "Int64Index: 61321 entries, 2601 to 114199\n",
      "Data columns (total 3 columns):\n",
      " #   Column         Non-Null Count  Dtype         \n",
      "---  ------         --------------  -----         \n",
      " 0   purchase_date  61321 non-null  datetime64[ns]\n",
      " 1   user_id        61321 non-null  int64         \n",
      " 2   week           61321 non-null  datetime64[ns]\n",
      "dtypes: datetime64[ns](2), int64(1)\n",
      "memory usage: 1.9 MB\n"
     ]
    }
   ],
   "source": [
    "visits_new1 = visits_new.query('user_id not in @dupl_visit.user_id')\n",
    "visits_new1.info()"
   ]
  },
  {
   "cell_type": "markdown",
   "metadata": {},
   "source": [
    "Переименуем столбцы"
   ]
  },
  {
   "cell_type": "code",
   "execution_count": 20,
   "metadata": {},
   "outputs": [
    {
     "data": {
      "text/html": [
       "<div>\n",
       "<style scoped>\n",
       "    .dataframe tbody tr th:only-of-type {\n",
       "        vertical-align: middle;\n",
       "    }\n",
       "\n",
       "    .dataframe tbody tr th {\n",
       "        vertical-align: top;\n",
       "    }\n",
       "\n",
       "    .dataframe thead th {\n",
       "        text-align: right;\n",
       "    }\n",
       "</style>\n",
       "<table border=\"1\" class=\"dataframe\">\n",
       "  <thead>\n",
       "    <tr style=\"text-align: right;\">\n",
       "      <th></th>\n",
       "      <th>first_date</th>\n",
       "      <th>user_id</th>\n",
       "      <th>week</th>\n",
       "    </tr>\n",
       "  </thead>\n",
       "  <tbody>\n",
       "    <tr>\n",
       "      <th>2601</th>\n",
       "      <td>2020-02-10</td>\n",
       "      <td>9429240</td>\n",
       "      <td>2020-02-11</td>\n",
       "    </tr>\n",
       "    <tr>\n",
       "      <th>2602</th>\n",
       "      <td>2020-01-14</td>\n",
       "      <td>6629221</td>\n",
       "      <td>2020-01-14</td>\n",
       "    </tr>\n",
       "    <tr>\n",
       "      <th>2603</th>\n",
       "      <td>2020-01-07</td>\n",
       "      <td>8428489</td>\n",
       "      <td>2020-01-07</td>\n",
       "    </tr>\n",
       "    <tr>\n",
       "      <th>2604</th>\n",
       "      <td>2020-02-05</td>\n",
       "      <td>9294519</td>\n",
       "      <td>2020-02-11</td>\n",
       "    </tr>\n",
       "    <tr>\n",
       "      <th>2605</th>\n",
       "      <td>2020-02-14</td>\n",
       "      <td>7611125</td>\n",
       "      <td>2020-02-18</td>\n",
       "    </tr>\n",
       "  </tbody>\n",
       "</table>\n",
       "</div>"
      ],
      "text/plain": [
       "     first_date  user_id       week\n",
       "2601 2020-02-10  9429240 2020-02-11\n",
       "2602 2020-01-14  6629221 2020-01-14\n",
       "2603 2020-01-07  8428489 2020-01-07\n",
       "2604 2020-02-05  9294519 2020-02-11\n",
       "2605 2020-02-14  7611125 2020-02-18"
      ]
     },
     "execution_count": 20,
     "metadata": {},
     "output_type": "execute_result"
    }
   ],
   "source": [
    "visits_new1.columns = ['first_date','user_id','week']\n",
    "visits_new1.head()"
   ]
  },
  {
   "cell_type": "markdown",
   "metadata": {},
   "source": [
    "Присоединим таблицу заказов"
   ]
  },
  {
   "cell_type": "code",
   "execution_count": 21,
   "metadata": {},
   "outputs": [
    {
     "data": {
      "text/html": [
       "<div>\n",
       "<style scoped>\n",
       "    .dataframe tbody tr th:only-of-type {\n",
       "        vertical-align: middle;\n",
       "    }\n",
       "\n",
       "    .dataframe tbody tr th {\n",
       "        vertical-align: top;\n",
       "    }\n",
       "\n",
       "    .dataframe thead th {\n",
       "        text-align: right;\n",
       "    }\n",
       "</style>\n",
       "<table border=\"1\" class=\"dataframe\">\n",
       "  <thead>\n",
       "    <tr style=\"text-align: right;\">\n",
       "      <th></th>\n",
       "      <th>purchase_date</th>\n",
       "      <th>user_id</th>\n",
       "      <th>first_date</th>\n",
       "      <th>week</th>\n",
       "    </tr>\n",
       "  </thead>\n",
       "  <tbody>\n",
       "    <tr>\n",
       "      <th>2367</th>\n",
       "      <td>2020-02-15</td>\n",
       "      <td>9119999</td>\n",
       "      <td>2020-01-31</td>\n",
       "      <td>2020-02-04</td>\n",
       "    </tr>\n",
       "    <tr>\n",
       "      <th>35444</th>\n",
       "      <td>2020-02-09</td>\n",
       "      <td>8363468</td>\n",
       "      <td>2020-01-05</td>\n",
       "      <td>2020-01-07</td>\n",
       "    </tr>\n",
       "    <tr>\n",
       "      <th>24971</th>\n",
       "      <td>2020-02-18</td>\n",
       "      <td>7604461</td>\n",
       "      <td>2020-01-14</td>\n",
       "      <td>2020-01-14</td>\n",
       "    </tr>\n",
       "    <tr>\n",
       "      <th>31774</th>\n",
       "      <td>2020-01-24</td>\n",
       "      <td>8507619</td>\n",
       "      <td>2020-01-10</td>\n",
       "      <td>2020-01-14</td>\n",
       "    </tr>\n",
       "    <tr>\n",
       "      <th>19673</th>\n",
       "      <td>2020-01-30</td>\n",
       "      <td>8909582</td>\n",
       "      <td>2020-01-23</td>\n",
       "      <td>2020-01-28</td>\n",
       "    </tr>\n",
       "  </tbody>\n",
       "</table>\n",
       "</div>"
      ],
      "text/plain": [
       "      purchase_date  user_id first_date       week\n",
       "2367     2020-02-15  9119999 2020-01-31 2020-02-04\n",
       "35444    2020-02-09  8363468 2020-01-05 2020-01-07\n",
       "24971    2020-02-18  7604461 2020-01-14 2020-01-14\n",
       "31774    2020-01-24  8507619 2020-01-10 2020-01-14\n",
       "19673    2020-01-30  8909582 2020-01-23 2020-01-28"
      ]
     },
     "execution_count": 21,
     "metadata": {},
     "output_type": "execute_result"
    }
   ],
   "source": [
    "orders_new1 = orders_new.merge(visits_new1, on='user_id', how = 'left')\n",
    "orders_new1.sample(5)"
   ]
  },
  {
   "cell_type": "markdown",
   "metadata": {},
   "source": [
    "Проверим все ли оплаты сделаны после пробного периода."
   ]
  },
  {
   "cell_type": "code",
   "execution_count": 22,
   "metadata": {},
   "outputs": [
    {
     "data": {
      "text/html": [
       "<div>\n",
       "<style scoped>\n",
       "    .dataframe tbody tr th:only-of-type {\n",
       "        vertical-align: middle;\n",
       "    }\n",
       "\n",
       "    .dataframe tbody tr th {\n",
       "        vertical-align: top;\n",
       "    }\n",
       "\n",
       "    .dataframe thead th {\n",
       "        text-align: right;\n",
       "    }\n",
       "</style>\n",
       "<table border=\"1\" class=\"dataframe\">\n",
       "  <thead>\n",
       "    <tr style=\"text-align: right;\">\n",
       "      <th></th>\n",
       "      <th>purchase_date</th>\n",
       "      <th>user_id</th>\n",
       "      <th>first_date</th>\n",
       "      <th>week</th>\n",
       "      <th>error</th>\n",
       "    </tr>\n",
       "  </thead>\n",
       "  <tbody>\n",
       "    <tr>\n",
       "      <th>0</th>\n",
       "      <td>2020-02-17</td>\n",
       "      <td>9422402</td>\n",
       "      <td>2020-02-10</td>\n",
       "      <td>2020-02-11</td>\n",
       "      <td>0</td>\n",
       "    </tr>\n",
       "    <tr>\n",
       "      <th>1</th>\n",
       "      <td>2020-02-18</td>\n",
       "      <td>4997991</td>\n",
       "      <td>2020-02-11</td>\n",
       "      <td>2020-02-11</td>\n",
       "      <td>0</td>\n",
       "    </tr>\n",
       "    <tr>\n",
       "      <th>2</th>\n",
       "      <td>2020-02-18</td>\n",
       "      <td>9455582</td>\n",
       "      <td>2020-02-11</td>\n",
       "      <td>2020-02-11</td>\n",
       "      <td>0</td>\n",
       "    </tr>\n",
       "    <tr>\n",
       "      <th>3</th>\n",
       "      <td>2020-02-16</td>\n",
       "      <td>8803657</td>\n",
       "      <td>2020-01-19</td>\n",
       "      <td>2020-01-21</td>\n",
       "      <td>0</td>\n",
       "    </tr>\n",
       "    <tr>\n",
       "      <th>4</th>\n",
       "      <td>2020-02-17</td>\n",
       "      <td>8800360</td>\n",
       "      <td>2020-01-19</td>\n",
       "      <td>2020-01-21</td>\n",
       "      <td>0</td>\n",
       "    </tr>\n",
       "  </tbody>\n",
       "</table>\n",
       "</div>"
      ],
      "text/plain": [
       "  purchase_date  user_id first_date       week  error\n",
       "0    2020-02-17  9422402 2020-02-10 2020-02-11      0\n",
       "1    2020-02-18  4997991 2020-02-11 2020-02-11      0\n",
       "2    2020-02-18  9455582 2020-02-11 2020-02-11      0\n",
       "3    2020-02-16  8803657 2020-01-19 2020-01-21      0\n",
       "4    2020-02-17  8800360 2020-01-19 2020-01-21      0"
      ]
     },
     "execution_count": 22,
     "metadata": {},
     "output_type": "execute_result"
    }
   ],
   "source": [
    "def der(i):\n",
    "    t = i['purchase_date']\n",
    "    g = i['first_date']\n",
    "    if g < t:\n",
    "        return 0\n",
    "    else:\n",
    "        return 1\n",
    "orders_new1['error'] = orders_new1.apply(der, axis = 1)\n",
    "orders_new1.head(5)"
   ]
  },
  {
   "cell_type": "code",
   "execution_count": 23,
   "metadata": {},
   "outputs": [
    {
     "data": {
      "text/plain": [
       "38"
      ]
     },
     "execution_count": 23,
     "metadata": {},
     "output_type": "execute_result"
    }
   ],
   "source": [
    "orders_new1['error'].sum()"
   ]
  },
  {
   "cell_type": "markdown",
   "metadata": {},
   "source": [
    "38 оплат прошло ранее, чем начался пробный период. Так тоже быть не должно, это нужно отследить. "
   ]
  },
  {
   "cell_type": "code",
   "execution_count": 24,
   "metadata": {},
   "outputs": [
    {
     "name": "stdout",
     "output_type": "stream",
     "text": [
      "<class 'pandas.core.frame.DataFrame'>\n",
      "Int64Index: 48566 entries, 0 to 48603\n",
      "Data columns (total 5 columns):\n",
      " #   Column         Non-Null Count  Dtype         \n",
      "---  ------         --------------  -----         \n",
      " 0   purchase_date  48566 non-null  datetime64[ns]\n",
      " 1   user_id        48566 non-null  int64         \n",
      " 2   first_date     48566 non-null  datetime64[ns]\n",
      " 3   week           48566 non-null  datetime64[ns]\n",
      " 4   error          48566 non-null  int64         \n",
      "dtypes: datetime64[ns](3), int64(2)\n",
      "memory usage: 2.2 MB\n"
     ]
    },
    {
     "data": {
      "text/html": [
       "<div>\n",
       "<style scoped>\n",
       "    .dataframe tbody tr th:only-of-type {\n",
       "        vertical-align: middle;\n",
       "    }\n",
       "\n",
       "    .dataframe tbody tr th {\n",
       "        vertical-align: top;\n",
       "    }\n",
       "\n",
       "    .dataframe thead th {\n",
       "        text-align: right;\n",
       "    }\n",
       "</style>\n",
       "<table border=\"1\" class=\"dataframe\">\n",
       "  <thead>\n",
       "    <tr style=\"text-align: right;\">\n",
       "      <th></th>\n",
       "      <th>purchase_date</th>\n",
       "      <th>user_id</th>\n",
       "      <th>first_date</th>\n",
       "      <th>week</th>\n",
       "      <th>error</th>\n",
       "    </tr>\n",
       "  </thead>\n",
       "  <tbody>\n",
       "    <tr>\n",
       "      <th>0</th>\n",
       "      <td>2020-02-17</td>\n",
       "      <td>9422402</td>\n",
       "      <td>2020-02-10</td>\n",
       "      <td>2020-02-11</td>\n",
       "      <td>0</td>\n",
       "    </tr>\n",
       "    <tr>\n",
       "      <th>1</th>\n",
       "      <td>2020-02-18</td>\n",
       "      <td>4997991</td>\n",
       "      <td>2020-02-11</td>\n",
       "      <td>2020-02-11</td>\n",
       "      <td>0</td>\n",
       "    </tr>\n",
       "    <tr>\n",
       "      <th>2</th>\n",
       "      <td>2020-02-18</td>\n",
       "      <td>9455582</td>\n",
       "      <td>2020-02-11</td>\n",
       "      <td>2020-02-11</td>\n",
       "      <td>0</td>\n",
       "    </tr>\n",
       "    <tr>\n",
       "      <th>3</th>\n",
       "      <td>2020-02-16</td>\n",
       "      <td>8803657</td>\n",
       "      <td>2020-01-19</td>\n",
       "      <td>2020-01-21</td>\n",
       "      <td>0</td>\n",
       "    </tr>\n",
       "    <tr>\n",
       "      <th>4</th>\n",
       "      <td>2020-02-17</td>\n",
       "      <td>8800360</td>\n",
       "      <td>2020-01-19</td>\n",
       "      <td>2020-01-21</td>\n",
       "      <td>0</td>\n",
       "    </tr>\n",
       "  </tbody>\n",
       "</table>\n",
       "</div>"
      ],
      "text/plain": [
       "  purchase_date  user_id first_date       week  error\n",
       "0    2020-02-17  9422402 2020-02-10 2020-02-11      0\n",
       "1    2020-02-18  4997991 2020-02-11 2020-02-11      0\n",
       "2    2020-02-18  9455582 2020-02-11 2020-02-11      0\n",
       "3    2020-02-16  8803657 2020-01-19 2020-01-21      0\n",
       "4    2020-02-17  8800360 2020-01-19 2020-01-21      0"
      ]
     },
     "execution_count": 24,
     "metadata": {},
     "output_type": "execute_result"
    }
   ],
   "source": [
    "orders_new2 = orders_new1.query('error == 0')\n",
    "orders_new2.info()\n",
    "orders_new2.head()"
   ]
  },
  {
   "cell_type": "markdown",
   "metadata": {},
   "source": [
    "Выделим периоды жизни когорт"
   ]
  },
  {
   "cell_type": "code",
   "execution_count": 25,
   "metadata": {},
   "outputs": [
    {
     "data": {
      "text/html": [
       "<div>\n",
       "<style scoped>\n",
       "    .dataframe tbody tr th:only-of-type {\n",
       "        vertical-align: middle;\n",
       "    }\n",
       "\n",
       "    .dataframe tbody tr th {\n",
       "        vertical-align: top;\n",
       "    }\n",
       "\n",
       "    .dataframe thead th {\n",
       "        text-align: right;\n",
       "    }\n",
       "</style>\n",
       "<table border=\"1\" class=\"dataframe\">\n",
       "  <thead>\n",
       "    <tr style=\"text-align: right;\">\n",
       "      <th></th>\n",
       "      <th>purchase_date</th>\n",
       "      <th>user_id</th>\n",
       "      <th>first_date</th>\n",
       "      <th>week</th>\n",
       "      <th>error</th>\n",
       "      <th>lifetime</th>\n",
       "    </tr>\n",
       "  </thead>\n",
       "  <tbody>\n",
       "    <tr>\n",
       "      <th>0</th>\n",
       "      <td>2020-02-17</td>\n",
       "      <td>9422402</td>\n",
       "      <td>2020-02-10</td>\n",
       "      <td>2020-02-11</td>\n",
       "      <td>0</td>\n",
       "      <td>1</td>\n",
       "    </tr>\n",
       "    <tr>\n",
       "      <th>1</th>\n",
       "      <td>2020-02-18</td>\n",
       "      <td>4997991</td>\n",
       "      <td>2020-02-11</td>\n",
       "      <td>2020-02-11</td>\n",
       "      <td>0</td>\n",
       "      <td>1</td>\n",
       "    </tr>\n",
       "    <tr>\n",
       "      <th>2</th>\n",
       "      <td>2020-02-18</td>\n",
       "      <td>9455582</td>\n",
       "      <td>2020-02-11</td>\n",
       "      <td>2020-02-11</td>\n",
       "      <td>0</td>\n",
       "      <td>1</td>\n",
       "    </tr>\n",
       "    <tr>\n",
       "      <th>3</th>\n",
       "      <td>2020-02-16</td>\n",
       "      <td>8803657</td>\n",
       "      <td>2020-01-19</td>\n",
       "      <td>2020-01-21</td>\n",
       "      <td>0</td>\n",
       "      <td>4</td>\n",
       "    </tr>\n",
       "    <tr>\n",
       "      <th>4</th>\n",
       "      <td>2020-02-17</td>\n",
       "      <td>8800360</td>\n",
       "      <td>2020-01-19</td>\n",
       "      <td>2020-01-21</td>\n",
       "      <td>0</td>\n",
       "      <td>4</td>\n",
       "    </tr>\n",
       "  </tbody>\n",
       "</table>\n",
       "</div>"
      ],
      "text/plain": [
       "  purchase_date  user_id first_date       week  error  lifetime\n",
       "0    2020-02-17  9422402 2020-02-10 2020-02-11      0         1\n",
       "1    2020-02-18  4997991 2020-02-11 2020-02-11      0         1\n",
       "2    2020-02-18  9455582 2020-02-11 2020-02-11      0         1\n",
       "3    2020-02-16  8803657 2020-01-19 2020-01-21      0         4\n",
       "4    2020-02-17  8800360 2020-01-19 2020-01-21      0         4"
      ]
     },
     "execution_count": 25,
     "metadata": {},
     "output_type": "execute_result"
    }
   ],
   "source": [
    "orders_new2['lifetime'] = orders_new2['purchase_date'] - orders_new2['first_date']\n",
    "orders_new2['lifetime'] = orders_new2['lifetime'] / np.timedelta64(1, 'W')\n",
    "orders_new2['lifetime'] = orders_new2['lifetime'].astype('int') \n",
    "orders_new2.head(5)"
   ]
  },
  {
   "cell_type": "markdown",
   "metadata": {},
   "source": [
    "Проверим еще на ошибки в продолжительности пробного периода. "
   ]
  },
  {
   "cell_type": "code",
   "execution_count": 26,
   "metadata": {},
   "outputs": [
    {
     "data": {
      "text/html": [
       "<div>\n",
       "<style scoped>\n",
       "    .dataframe tbody tr th:only-of-type {\n",
       "        vertical-align: middle;\n",
       "    }\n",
       "\n",
       "    .dataframe tbody tr th {\n",
       "        vertical-align: top;\n",
       "    }\n",
       "\n",
       "    .dataframe thead th {\n",
       "        text-align: right;\n",
       "    }\n",
       "</style>\n",
       "<table border=\"1\" class=\"dataframe\">\n",
       "  <thead>\n",
       "    <tr style=\"text-align: right;\">\n",
       "      <th></th>\n",
       "      <th>purchase_date</th>\n",
       "      <th>user_id</th>\n",
       "      <th>first_date</th>\n",
       "      <th>week</th>\n",
       "      <th>error</th>\n",
       "      <th>lifetime</th>\n",
       "    </tr>\n",
       "  </thead>\n",
       "  <tbody>\n",
       "    <tr>\n",
       "      <th>14301</th>\n",
       "      <td>2020-01-14</td>\n",
       "      <td>8477738</td>\n",
       "      <td>2020-01-09</td>\n",
       "      <td>2020-01-14</td>\n",
       "      <td>0</td>\n",
       "      <td>0</td>\n",
       "    </tr>\n",
       "    <tr>\n",
       "      <th>18123</th>\n",
       "      <td>2020-01-31</td>\n",
       "      <td>9112200</td>\n",
       "      <td>2020-01-30</td>\n",
       "      <td>2020-02-04</td>\n",
       "      <td>0</td>\n",
       "      <td>0</td>\n",
       "    </tr>\n",
       "  </tbody>\n",
       "</table>\n",
       "</div>"
      ],
      "text/plain": [
       "      purchase_date  user_id first_date       week  error  lifetime\n",
       "14301    2020-01-14  8477738 2020-01-09 2020-01-14      0         0\n",
       "18123    2020-01-31  9112200 2020-01-30 2020-02-04      0         0"
      ]
     },
     "execution_count": 26,
     "metadata": {},
     "output_type": "execute_result"
    }
   ],
   "source": [
    "orders_new2.query('lifetime == 0')"
   ]
  },
  {
   "cell_type": "markdown",
   "metadata": {},
   "source": [
    "У 2-х пользователей не прошло 7 дней с даты подклчения пробного периода до оплаты. Еще один повод обратиться к коллегам."
   ]
  },
  {
   "cell_type": "code",
   "execution_count": 27,
   "metadata": {},
   "outputs": [],
   "source": [
    "orders_new3 = orders_new2.query('lifetime != 0')"
   ]
  },
  {
   "cell_type": "markdown",
   "metadata": {},
   "source": [
    "Сформируем когорты."
   ]
  },
  {
   "cell_type": "code",
   "execution_count": 28,
   "metadata": {},
   "outputs": [
    {
     "data": {
      "text/html": [
       "<div>\n",
       "<style scoped>\n",
       "    .dataframe tbody tr th:only-of-type {\n",
       "        vertical-align: middle;\n",
       "    }\n",
       "\n",
       "    .dataframe tbody tr th {\n",
       "        vertical-align: top;\n",
       "    }\n",
       "\n",
       "    .dataframe thead th {\n",
       "        text-align: right;\n",
       "    }\n",
       "</style>\n",
       "<table border=\"1\" class=\"dataframe\">\n",
       "  <thead>\n",
       "    <tr style=\"text-align: right;\">\n",
       "      <th></th>\n",
       "      <th>week</th>\n",
       "      <th>lifetime</th>\n",
       "      <th>user_id</th>\n",
       "      <th>purchase_date</th>\n",
       "    </tr>\n",
       "  </thead>\n",
       "  <tbody>\n",
       "    <tr>\n",
       "      <th>0</th>\n",
       "      <td>2020-01-07</td>\n",
       "      <td>1</td>\n",
       "      <td>3477</td>\n",
       "      <td>3478</td>\n",
       "    </tr>\n",
       "    <tr>\n",
       "      <th>1</th>\n",
       "      <td>2020-01-07</td>\n",
       "      <td>2</td>\n",
       "      <td>2801</td>\n",
       "      <td>2801</td>\n",
       "    </tr>\n",
       "    <tr>\n",
       "      <th>2</th>\n",
       "      <td>2020-01-07</td>\n",
       "      <td>3</td>\n",
       "      <td>2490</td>\n",
       "      <td>2490</td>\n",
       "    </tr>\n",
       "    <tr>\n",
       "      <th>3</th>\n",
       "      <td>2020-01-07</td>\n",
       "      <td>4</td>\n",
       "      <td>2216</td>\n",
       "      <td>2216</td>\n",
       "    </tr>\n",
       "    <tr>\n",
       "      <th>4</th>\n",
       "      <td>2020-01-07</td>\n",
       "      <td>5</td>\n",
       "      <td>1968</td>\n",
       "      <td>1968</td>\n",
       "    </tr>\n",
       "    <tr>\n",
       "      <th>5</th>\n",
       "      <td>2020-01-07</td>\n",
       "      <td>6</td>\n",
       "      <td>1591</td>\n",
       "      <td>1591</td>\n",
       "    </tr>\n",
       "    <tr>\n",
       "      <th>6</th>\n",
       "      <td>2020-01-14</td>\n",
       "      <td>1</td>\n",
       "      <td>3023</td>\n",
       "      <td>3025</td>\n",
       "    </tr>\n",
       "    <tr>\n",
       "      <th>7</th>\n",
       "      <td>2020-01-14</td>\n",
       "      <td>2</td>\n",
       "      <td>2451</td>\n",
       "      <td>2452</td>\n",
       "    </tr>\n",
       "    <tr>\n",
       "      <th>8</th>\n",
       "      <td>2020-01-14</td>\n",
       "      <td>3</td>\n",
       "      <td>2113</td>\n",
       "      <td>2113</td>\n",
       "    </tr>\n",
       "    <tr>\n",
       "      <th>9</th>\n",
       "      <td>2020-01-14</td>\n",
       "      <td>4</td>\n",
       "      <td>1854</td>\n",
       "      <td>1857</td>\n",
       "    </tr>\n",
       "    <tr>\n",
       "      <th>10</th>\n",
       "      <td>2020-01-14</td>\n",
       "      <td>5</td>\n",
       "      <td>1501</td>\n",
       "      <td>1501</td>\n",
       "    </tr>\n",
       "    <tr>\n",
       "      <th>11</th>\n",
       "      <td>2020-01-21</td>\n",
       "      <td>1</td>\n",
       "      <td>3125</td>\n",
       "      <td>3125</td>\n",
       "    </tr>\n",
       "    <tr>\n",
       "      <th>12</th>\n",
       "      <td>2020-01-21</td>\n",
       "      <td>2</td>\n",
       "      <td>2451</td>\n",
       "      <td>2451</td>\n",
       "    </tr>\n",
       "    <tr>\n",
       "      <th>13</th>\n",
       "      <td>2020-01-21</td>\n",
       "      <td>3</td>\n",
       "      <td>2089</td>\n",
       "      <td>2089</td>\n",
       "    </tr>\n",
       "    <tr>\n",
       "      <th>14</th>\n",
       "      <td>2020-01-21</td>\n",
       "      <td>4</td>\n",
       "      <td>1640</td>\n",
       "      <td>1640</td>\n",
       "    </tr>\n",
       "    <tr>\n",
       "      <th>15</th>\n",
       "      <td>2020-01-28</td>\n",
       "      <td>1</td>\n",
       "      <td>2543</td>\n",
       "      <td>2544</td>\n",
       "    </tr>\n",
       "    <tr>\n",
       "      <th>16</th>\n",
       "      <td>2020-01-28</td>\n",
       "      <td>2</td>\n",
       "      <td>1934</td>\n",
       "      <td>1934</td>\n",
       "    </tr>\n",
       "    <tr>\n",
       "      <th>17</th>\n",
       "      <td>2020-01-28</td>\n",
       "      <td>3</td>\n",
       "      <td>1511</td>\n",
       "      <td>1511</td>\n",
       "    </tr>\n",
       "    <tr>\n",
       "      <th>18</th>\n",
       "      <td>2020-02-04</td>\n",
       "      <td>1</td>\n",
       "      <td>2847</td>\n",
       "      <td>2850</td>\n",
       "    </tr>\n",
       "    <tr>\n",
       "      <th>19</th>\n",
       "      <td>2020-02-04</td>\n",
       "      <td>2</td>\n",
       "      <td>2033</td>\n",
       "      <td>2035</td>\n",
       "    </tr>\n",
       "    <tr>\n",
       "      <th>20</th>\n",
       "      <td>2020-02-11</td>\n",
       "      <td>1</td>\n",
       "      <td>2893</td>\n",
       "      <td>2893</td>\n",
       "    </tr>\n",
       "  </tbody>\n",
       "</table>\n",
       "</div>"
      ],
      "text/plain": [
       "         week  lifetime  user_id  purchase_date\n",
       "0  2020-01-07         1     3477           3478\n",
       "1  2020-01-07         2     2801           2801\n",
       "2  2020-01-07         3     2490           2490\n",
       "3  2020-01-07         4     2216           2216\n",
       "4  2020-01-07         5     1968           1968\n",
       "5  2020-01-07         6     1591           1591\n",
       "6  2020-01-14         1     3023           3025\n",
       "7  2020-01-14         2     2451           2452\n",
       "8  2020-01-14         3     2113           2113\n",
       "9  2020-01-14         4     1854           1857\n",
       "10 2020-01-14         5     1501           1501\n",
       "11 2020-01-21         1     3125           3125\n",
       "12 2020-01-21         2     2451           2451\n",
       "13 2020-01-21         3     2089           2089\n",
       "14 2020-01-21         4     1640           1640\n",
       "15 2020-01-28         1     2543           2544\n",
       "16 2020-01-28         2     1934           1934\n",
       "17 2020-01-28         3     1511           1511\n",
       "18 2020-02-04         1     2847           2850\n",
       "19 2020-02-04         2     2033           2035\n",
       "20 2020-02-11         1     2893           2893"
      ]
     },
     "execution_count": 28,
     "metadata": {},
     "output_type": "execute_result"
    }
   ],
   "source": [
    "cohorts = orders_new3.groupby(['week', 'lifetime']).agg({'user_id': 'nunique', 'purchase_date' : 'count'}).reset_index() \n",
    "cohorts"
   ]
  },
  {
   "cell_type": "markdown",
   "metadata": {},
   "source": [
    "В таблице видно что оплаты некоторых пользователей проходят за 1 неделю дважды (кол-во оплат и плательщиков не совпадает), этого быть не должно. Будем ориентироваться на счетчик уникальных пользователей, тк хоть оплата и списана, пользователь может запросить возврат. "
   ]
  },
  {
   "cell_type": "markdown",
   "metadata": {},
   "source": [
    "Рассчитаем и добавим в таблицу доход когорт, согласно условию подписка стоит 4,99"
   ]
  },
  {
   "cell_type": "code",
   "execution_count": 29,
   "metadata": {},
   "outputs": [
    {
     "data": {
      "text/html": [
       "<div>\n",
       "<style scoped>\n",
       "    .dataframe tbody tr th:only-of-type {\n",
       "        vertical-align: middle;\n",
       "    }\n",
       "\n",
       "    .dataframe tbody tr th {\n",
       "        vertical-align: top;\n",
       "    }\n",
       "\n",
       "    .dataframe thead th {\n",
       "        text-align: right;\n",
       "    }\n",
       "</style>\n",
       "<table border=\"1\" class=\"dataframe\">\n",
       "  <thead>\n",
       "    <tr style=\"text-align: right;\">\n",
       "      <th></th>\n",
       "      <th>week</th>\n",
       "      <th>lifetime</th>\n",
       "      <th>user_id</th>\n",
       "      <th>purchase_date</th>\n",
       "      <th>revenue</th>\n",
       "    </tr>\n",
       "  </thead>\n",
       "  <tbody>\n",
       "    <tr>\n",
       "      <th>0</th>\n",
       "      <td>2020-01-07</td>\n",
       "      <td>1</td>\n",
       "      <td>3477</td>\n",
       "      <td>3478</td>\n",
       "      <td>17350.23</td>\n",
       "    </tr>\n",
       "    <tr>\n",
       "      <th>1</th>\n",
       "      <td>2020-01-07</td>\n",
       "      <td>2</td>\n",
       "      <td>2801</td>\n",
       "      <td>2801</td>\n",
       "      <td>13976.99</td>\n",
       "    </tr>\n",
       "    <tr>\n",
       "      <th>2</th>\n",
       "      <td>2020-01-07</td>\n",
       "      <td>3</td>\n",
       "      <td>2490</td>\n",
       "      <td>2490</td>\n",
       "      <td>12425.10</td>\n",
       "    </tr>\n",
       "    <tr>\n",
       "      <th>3</th>\n",
       "      <td>2020-01-07</td>\n",
       "      <td>4</td>\n",
       "      <td>2216</td>\n",
       "      <td>2216</td>\n",
       "      <td>11057.84</td>\n",
       "    </tr>\n",
       "    <tr>\n",
       "      <th>4</th>\n",
       "      <td>2020-01-07</td>\n",
       "      <td>5</td>\n",
       "      <td>1968</td>\n",
       "      <td>1968</td>\n",
       "      <td>9820.32</td>\n",
       "    </tr>\n",
       "  </tbody>\n",
       "</table>\n",
       "</div>"
      ],
      "text/plain": [
       "        week  lifetime  user_id  purchase_date   revenue\n",
       "0 2020-01-07         1     3477           3478  17350.23\n",
       "1 2020-01-07         2     2801           2801  13976.99\n",
       "2 2020-01-07         3     2490           2490  12425.10\n",
       "3 2020-01-07         4     2216           2216  11057.84\n",
       "4 2020-01-07         5     1968           1968   9820.32"
      ]
     },
     "execution_count": 29,
     "metadata": {},
     "output_type": "execute_result"
    }
   ],
   "source": [
    "cohorts['revenue'] = cohorts['user_id'] * 4.99\n",
    "cohorts.head()"
   ]
  },
  {
   "cell_type": "markdown",
   "metadata": {},
   "source": [
    "Добавим в таблицу количество пользователей в когортах"
   ]
  },
  {
   "cell_type": "code",
   "execution_count": 30,
   "metadata": {},
   "outputs": [
    {
     "data": {
      "text/html": [
       "<div>\n",
       "<style scoped>\n",
       "    .dataframe tbody tr th:only-of-type {\n",
       "        vertical-align: middle;\n",
       "    }\n",
       "\n",
       "    .dataframe tbody tr th {\n",
       "        vertical-align: top;\n",
       "    }\n",
       "\n",
       "    .dataframe thead th {\n",
       "        text-align: right;\n",
       "    }\n",
       "</style>\n",
       "<table border=\"1\" class=\"dataframe\">\n",
       "  <thead>\n",
       "    <tr style=\"text-align: right;\">\n",
       "      <th></th>\n",
       "      <th>week</th>\n",
       "      <th>users</th>\n",
       "    </tr>\n",
       "  </thead>\n",
       "  <tbody>\n",
       "    <tr>\n",
       "      <th>0</th>\n",
       "      <td>2020-01-07</td>\n",
       "      <td>3477</td>\n",
       "    </tr>\n",
       "    <tr>\n",
       "      <th>6</th>\n",
       "      <td>2020-01-14</td>\n",
       "      <td>3023</td>\n",
       "    </tr>\n",
       "    <tr>\n",
       "      <th>11</th>\n",
       "      <td>2020-01-21</td>\n",
       "      <td>3125</td>\n",
       "    </tr>\n",
       "    <tr>\n",
       "      <th>15</th>\n",
       "      <td>2020-01-28</td>\n",
       "      <td>2543</td>\n",
       "    </tr>\n",
       "    <tr>\n",
       "      <th>18</th>\n",
       "      <td>2020-02-04</td>\n",
       "      <td>2847</td>\n",
       "    </tr>\n",
       "    <tr>\n",
       "      <th>20</th>\n",
       "      <td>2020-02-11</td>\n",
       "      <td>2893</td>\n",
       "    </tr>\n",
       "  </tbody>\n",
       "</table>\n",
       "</div>"
      ],
      "text/plain": [
       "         week  users\n",
       "0  2020-01-07   3477\n",
       "6  2020-01-14   3023\n",
       "11 2020-01-21   3125\n",
       "15 2020-01-28   2543\n",
       "18 2020-02-04   2847\n",
       "20 2020-02-11   2893"
      ]
     },
     "execution_count": 30,
     "metadata": {},
     "output_type": "execute_result"
    }
   ],
   "source": [
    "users = cohorts.query('lifetime == 1')[['week','user_id']]\n",
    "users.columns = ['week', 'users']\n",
    "users"
   ]
  },
  {
   "cell_type": "code",
   "execution_count": 31,
   "metadata": {},
   "outputs": [
    {
     "data": {
      "text/html": [
       "<div>\n",
       "<style scoped>\n",
       "    .dataframe tbody tr th:only-of-type {\n",
       "        vertical-align: middle;\n",
       "    }\n",
       "\n",
       "    .dataframe tbody tr th {\n",
       "        vertical-align: top;\n",
       "    }\n",
       "\n",
       "    .dataframe thead th {\n",
       "        text-align: right;\n",
       "    }\n",
       "</style>\n",
       "<table border=\"1\" class=\"dataframe\">\n",
       "  <thead>\n",
       "    <tr style=\"text-align: right;\">\n",
       "      <th></th>\n",
       "      <th>week</th>\n",
       "      <th>lifetime</th>\n",
       "      <th>user_id</th>\n",
       "      <th>purchase_date</th>\n",
       "      <th>revenue</th>\n",
       "      <th>users</th>\n",
       "    </tr>\n",
       "  </thead>\n",
       "  <tbody>\n",
       "    <tr>\n",
       "      <th>0</th>\n",
       "      <td>2020-01-07</td>\n",
       "      <td>1</td>\n",
       "      <td>3477</td>\n",
       "      <td>3478</td>\n",
       "      <td>17350.23</td>\n",
       "      <td>3477</td>\n",
       "    </tr>\n",
       "    <tr>\n",
       "      <th>1</th>\n",
       "      <td>2020-01-07</td>\n",
       "      <td>2</td>\n",
       "      <td>2801</td>\n",
       "      <td>2801</td>\n",
       "      <td>13976.99</td>\n",
       "      <td>3477</td>\n",
       "    </tr>\n",
       "    <tr>\n",
       "      <th>2</th>\n",
       "      <td>2020-01-07</td>\n",
       "      <td>3</td>\n",
       "      <td>2490</td>\n",
       "      <td>2490</td>\n",
       "      <td>12425.10</td>\n",
       "      <td>3477</td>\n",
       "    </tr>\n",
       "    <tr>\n",
       "      <th>3</th>\n",
       "      <td>2020-01-07</td>\n",
       "      <td>4</td>\n",
       "      <td>2216</td>\n",
       "      <td>2216</td>\n",
       "      <td>11057.84</td>\n",
       "      <td>3477</td>\n",
       "    </tr>\n",
       "    <tr>\n",
       "      <th>4</th>\n",
       "      <td>2020-01-07</td>\n",
       "      <td>5</td>\n",
       "      <td>1968</td>\n",
       "      <td>1968</td>\n",
       "      <td>9820.32</td>\n",
       "      <td>3477</td>\n",
       "    </tr>\n",
       "  </tbody>\n",
       "</table>\n",
       "</div>"
      ],
      "text/plain": [
       "        week  lifetime  user_id  purchase_date   revenue  users\n",
       "0 2020-01-07         1     3477           3478  17350.23   3477\n",
       "1 2020-01-07         2     2801           2801  13976.99   3477\n",
       "2 2020-01-07         3     2490           2490  12425.10   3477\n",
       "3 2020-01-07         4     2216           2216  11057.84   3477\n",
       "4 2020-01-07         5     1968           1968   9820.32   3477"
      ]
     },
     "execution_count": 31,
     "metadata": {},
     "output_type": "execute_result"
    }
   ],
   "source": [
    "cohorts = cohorts.merge(users, on = 'week', how = 'left')\n",
    "cohorts.head()"
   ]
  },
  {
   "cell_type": "markdown",
   "metadata": {},
   "source": [
    "Рассчитаем LTV по когортам и отобразим на графике"
   ]
  },
  {
   "cell_type": "code",
   "execution_count": 32,
   "metadata": {},
   "outputs": [
    {
     "data": {
      "text/html": [
       "<div>\n",
       "<style scoped>\n",
       "    .dataframe tbody tr th:only-of-type {\n",
       "        vertical-align: middle;\n",
       "    }\n",
       "\n",
       "    .dataframe tbody tr th {\n",
       "        vertical-align: top;\n",
       "    }\n",
       "\n",
       "    .dataframe thead th {\n",
       "        text-align: right;\n",
       "    }\n",
       "</style>\n",
       "<table border=\"1\" class=\"dataframe\">\n",
       "  <thead>\n",
       "    <tr style=\"text-align: right;\">\n",
       "      <th></th>\n",
       "      <th>week</th>\n",
       "      <th>lifetime</th>\n",
       "      <th>user_id</th>\n",
       "      <th>purchase_date</th>\n",
       "      <th>revenue</th>\n",
       "      <th>users</th>\n",
       "      <th>ltv</th>\n",
       "    </tr>\n",
       "  </thead>\n",
       "  <tbody>\n",
       "    <tr>\n",
       "      <th>0</th>\n",
       "      <td>2020-01-07</td>\n",
       "      <td>1</td>\n",
       "      <td>3477</td>\n",
       "      <td>3478</td>\n",
       "      <td>17350.23</td>\n",
       "      <td>3477</td>\n",
       "      <td>4.990000</td>\n",
       "    </tr>\n",
       "    <tr>\n",
       "      <th>1</th>\n",
       "      <td>2020-01-07</td>\n",
       "      <td>2</td>\n",
       "      <td>2801</td>\n",
       "      <td>2801</td>\n",
       "      <td>13976.99</td>\n",
       "      <td>3477</td>\n",
       "      <td>4.019842</td>\n",
       "    </tr>\n",
       "    <tr>\n",
       "      <th>2</th>\n",
       "      <td>2020-01-07</td>\n",
       "      <td>3</td>\n",
       "      <td>2490</td>\n",
       "      <td>2490</td>\n",
       "      <td>12425.10</td>\n",
       "      <td>3477</td>\n",
       "      <td>3.573512</td>\n",
       "    </tr>\n",
       "    <tr>\n",
       "      <th>3</th>\n",
       "      <td>2020-01-07</td>\n",
       "      <td>4</td>\n",
       "      <td>2216</td>\n",
       "      <td>2216</td>\n",
       "      <td>11057.84</td>\n",
       "      <td>3477</td>\n",
       "      <td>3.180282</td>\n",
       "    </tr>\n",
       "    <tr>\n",
       "      <th>4</th>\n",
       "      <td>2020-01-07</td>\n",
       "      <td>5</td>\n",
       "      <td>1968</td>\n",
       "      <td>1968</td>\n",
       "      <td>9820.32</td>\n",
       "      <td>3477</td>\n",
       "      <td>2.824366</td>\n",
       "    </tr>\n",
       "  </tbody>\n",
       "</table>\n",
       "</div>"
      ],
      "text/plain": [
       "        week  lifetime  user_id  purchase_date   revenue  users       ltv\n",
       "0 2020-01-07         1     3477           3478  17350.23   3477  4.990000\n",
       "1 2020-01-07         2     2801           2801  13976.99   3477  4.019842\n",
       "2 2020-01-07         3     2490           2490  12425.10   3477  3.573512\n",
       "3 2020-01-07         4     2216           2216  11057.84   3477  3.180282\n",
       "4 2020-01-07         5     1968           1968   9820.32   3477  2.824366"
      ]
     },
     "execution_count": 32,
     "metadata": {},
     "output_type": "execute_result"
    }
   ],
   "source": [
    "cohorts['ltv'] = cohorts['revenue']/cohorts['users']\n",
    "cohorts.head()"
   ]
  },
  {
   "cell_type": "code",
   "execution_count": 33,
   "metadata": {},
   "outputs": [
    {
     "data": {
      "image/png": "[encoded data removed]",
      "text/plain": [
       "<Figure size 2160x720 with 2 Axes>"
      ]
     },
     "metadata": {
      "needs_background": "light"
     },
     "output_type": "display_data"
    }
   ],
   "source": [
    "ltv = cohorts.pivot_table(index='week', columns='lifetime', values='ltv', aggfunc='mean').cumsum(axis=1)\n",
    "plt.figure(figsize=(30, 10))\n",
    "plt.title('LTV')\n",
    "sns.heatmap(ltv, annot=True, linewidths=1, linecolor='gray')\n",
    "plt.show()"
   ]
  },
  {
   "cell_type": "markdown",
   "metadata": {},
   "source": [
    "По графику видно, например текущий LTV когорты 07-01 равен 21, а когорты 04-02 8,6. Так же заметно что у разных когорт показатель растет по-разному."
   ]
  },
  {
   "cell_type": "markdown",
   "metadata": {},
   "source": [
    "Спрогнозируем, каким будет LTV на полгода и построим графики"
   ]
  },
  {
   "cell_type": "markdown",
   "metadata": {},
   "source": [
    "Для начала построим график ltv по имеющимся данным."
   ]
  },
  {
   "cell_type": "code",
   "execution_count": 34,
   "metadata": {},
   "outputs": [
    {
     "data": {
      "text/html": [
       "<div>\n",
       "<style scoped>\n",
       "    .dataframe tbody tr th:only-of-type {\n",
       "        vertical-align: middle;\n",
       "    }\n",
       "\n",
       "    .dataframe tbody tr th {\n",
       "        vertical-align: top;\n",
       "    }\n",
       "\n",
       "    .dataframe thead th {\n",
       "        text-align: right;\n",
       "    }\n",
       "</style>\n",
       "<table border=\"1\" class=\"dataframe\">\n",
       "  <thead>\n",
       "    <tr style=\"text-align: right;\">\n",
       "      <th></th>\n",
       "      <th>week</th>\n",
       "      <th>lifetime</th>\n",
       "      <th>user_id</th>\n",
       "      <th>purchase_date</th>\n",
       "      <th>revenue</th>\n",
       "      <th>users</th>\n",
       "      <th>ltv</th>\n",
       "      <th>ltv_cum</th>\n",
       "    </tr>\n",
       "  </thead>\n",
       "  <tbody>\n",
       "    <tr>\n",
       "      <th>16</th>\n",
       "      <td>2020-01-28</td>\n",
       "      <td>2</td>\n",
       "      <td>1934</td>\n",
       "      <td>1934</td>\n",
       "      <td>9650.66</td>\n",
       "      <td>2543</td>\n",
       "      <td>3.794990</td>\n",
       "      <td>8.784990</td>\n",
       "    </tr>\n",
       "    <tr>\n",
       "      <th>17</th>\n",
       "      <td>2020-01-28</td>\n",
       "      <td>3</td>\n",
       "      <td>1511</td>\n",
       "      <td>1511</td>\n",
       "      <td>7539.89</td>\n",
       "      <td>2543</td>\n",
       "      <td>2.964959</td>\n",
       "      <td>11.749949</td>\n",
       "    </tr>\n",
       "    <tr>\n",
       "      <th>18</th>\n",
       "      <td>2020-02-04</td>\n",
       "      <td>1</td>\n",
       "      <td>2847</td>\n",
       "      <td>2850</td>\n",
       "      <td>14206.53</td>\n",
       "      <td>2847</td>\n",
       "      <td>4.990000</td>\n",
       "      <td>4.990000</td>\n",
       "    </tr>\n",
       "    <tr>\n",
       "      <th>19</th>\n",
       "      <td>2020-02-04</td>\n",
       "      <td>2</td>\n",
       "      <td>2033</td>\n",
       "      <td>2035</td>\n",
       "      <td>10144.67</td>\n",
       "      <td>2847</td>\n",
       "      <td>3.563284</td>\n",
       "      <td>8.553284</td>\n",
       "    </tr>\n",
       "    <tr>\n",
       "      <th>20</th>\n",
       "      <td>2020-02-11</td>\n",
       "      <td>1</td>\n",
       "      <td>2893</td>\n",
       "      <td>2893</td>\n",
       "      <td>14436.07</td>\n",
       "      <td>2893</td>\n",
       "      <td>4.990000</td>\n",
       "      <td>4.990000</td>\n",
       "    </tr>\n",
       "  </tbody>\n",
       "</table>\n",
       "</div>"
      ],
      "text/plain": [
       "         week  lifetime  user_id  purchase_date   revenue  users       ltv  \\\n",
       "16 2020-01-28         2     1934           1934   9650.66   2543  3.794990   \n",
       "17 2020-01-28         3     1511           1511   7539.89   2543  2.964959   \n",
       "18 2020-02-04         1     2847           2850  14206.53   2847  4.990000   \n",
       "19 2020-02-04         2     2033           2035  10144.67   2847  3.563284   \n",
       "20 2020-02-11         1     2893           2893  14436.07   2893  4.990000   \n",
       "\n",
       "      ltv_cum  \n",
       "16   8.784990  \n",
       "17  11.749949  \n",
       "18   4.990000  \n",
       "19   8.553284  \n",
       "20   4.990000  "
      ]
     },
     "execution_count": 34,
     "metadata": {},
     "output_type": "execute_result"
    }
   ],
   "source": [
    "cohorts['ltv_cum']= cohorts.groupby('week')['ltv'].cumsum()\n",
    "cohorts.tail()"
   ]
  },
  {
   "cell_type": "code",
   "execution_count": 35,
   "metadata": {},
   "outputs": [
    {
     "data": {
      "image/png": "[encoded data removed]",
      "text/plain": [
       "<Figure size 1440x432 with 1 Axes>"
      ]
     },
     "metadata": {
      "needs_background": "light"
     },
     "output_type": "display_data"
    }
   ],
   "source": [
    "cohorts.set_index('lifetime', inplace=True)\n",
    "cohorts.groupby('week')['ltv_cum'].plot(legend=True, grid = True, figsize = (20,6),title = 'LTV')\n",
    "plt.xticks(cohorts.index.tolist())\n",
    "plt.legend()\n",
    "plt.show()"
   ]
  },
  {
   "cell_type": "markdown",
   "metadata": {},
   "source": [
    "По графику видно, что темп роста LTV падает. к определенному временному периоду он выйдет на плато. К сожалению у нас данные за короткий промежуток времени, поэтому будем исходить из них. Предположим, что темп роста после 6-ой недели останется постоянным на уровне 5-6 недели когорты 07-01. А до 6-ой недели у других когорт будет как у самой \"старой\"."
   ]
  },
  {
   "cell_type": "markdown",
   "metadata": {},
   "source": [
    "создадим таблицу с коэффициентами. "
   ]
  },
  {
   "cell_type": "code",
   "execution_count": 36,
   "metadata": {},
   "outputs": [
    {
     "data": {
      "text/html": [
       "<div>\n",
       "<style scoped>\n",
       "    .dataframe tbody tr th:only-of-type {\n",
       "        vertical-align: middle;\n",
       "    }\n",
       "\n",
       "    .dataframe tbody tr th {\n",
       "        vertical-align: top;\n",
       "    }\n",
       "\n",
       "    .dataframe thead th {\n",
       "        text-align: right;\n",
       "    }\n",
       "</style>\n",
       "<table border=\"1\" class=\"dataframe\">\n",
       "  <thead>\n",
       "    <tr style=\"text-align: right;\">\n",
       "      <th></th>\n",
       "      <th>lifetime</th>\n",
       "      <th>week</th>\n",
       "      <th>user_id</th>\n",
       "      <th>purchase_date</th>\n",
       "      <th>revenue</th>\n",
       "      <th>users</th>\n",
       "      <th>ltv</th>\n",
       "      <th>ltv_cum</th>\n",
       "    </tr>\n",
       "  </thead>\n",
       "  <tbody>\n",
       "    <tr>\n",
       "      <th>0</th>\n",
       "      <td>1</td>\n",
       "      <td>2020-01-07</td>\n",
       "      <td>3477</td>\n",
       "      <td>3478</td>\n",
       "      <td>17350.23</td>\n",
       "      <td>3477</td>\n",
       "      <td>4.990000</td>\n",
       "      <td>4.990000</td>\n",
       "    </tr>\n",
       "    <tr>\n",
       "      <th>1</th>\n",
       "      <td>2</td>\n",
       "      <td>2020-01-07</td>\n",
       "      <td>2801</td>\n",
       "      <td>2801</td>\n",
       "      <td>13976.99</td>\n",
       "      <td>3477</td>\n",
       "      <td>4.019842</td>\n",
       "      <td>9.009842</td>\n",
       "    </tr>\n",
       "    <tr>\n",
       "      <th>2</th>\n",
       "      <td>3</td>\n",
       "      <td>2020-01-07</td>\n",
       "      <td>2490</td>\n",
       "      <td>2490</td>\n",
       "      <td>12425.10</td>\n",
       "      <td>3477</td>\n",
       "      <td>3.573512</td>\n",
       "      <td>12.583353</td>\n",
       "    </tr>\n",
       "    <tr>\n",
       "      <th>3</th>\n",
       "      <td>4</td>\n",
       "      <td>2020-01-07</td>\n",
       "      <td>2216</td>\n",
       "      <td>2216</td>\n",
       "      <td>11057.84</td>\n",
       "      <td>3477</td>\n",
       "      <td>3.180282</td>\n",
       "      <td>15.763635</td>\n",
       "    </tr>\n",
       "    <tr>\n",
       "      <th>4</th>\n",
       "      <td>5</td>\n",
       "      <td>2020-01-07</td>\n",
       "      <td>1968</td>\n",
       "      <td>1968</td>\n",
       "      <td>9820.32</td>\n",
       "      <td>3477</td>\n",
       "      <td>2.824366</td>\n",
       "      <td>18.588001</td>\n",
       "    </tr>\n",
       "    <tr>\n",
       "      <th>5</th>\n",
       "      <td>6</td>\n",
       "      <td>2020-01-07</td>\n",
       "      <td>1591</td>\n",
       "      <td>1591</td>\n",
       "      <td>7939.09</td>\n",
       "      <td>3477</td>\n",
       "      <td>2.283316</td>\n",
       "      <td>20.871317</td>\n",
       "    </tr>\n",
       "  </tbody>\n",
       "</table>\n",
       "</div>"
      ],
      "text/plain": [
       "   lifetime       week  user_id  purchase_date   revenue  users       ltv  \\\n",
       "0         1 2020-01-07     3477           3478  17350.23   3477  4.990000   \n",
       "1         2 2020-01-07     2801           2801  13976.99   3477  4.019842   \n",
       "2         3 2020-01-07     2490           2490  12425.10   3477  3.573512   \n",
       "3         4 2020-01-07     2216           2216  11057.84   3477  3.180282   \n",
       "4         5 2020-01-07     1968           1968   9820.32   3477  2.824366   \n",
       "5         6 2020-01-07     1591           1591   7939.09   3477  2.283316   \n",
       "\n",
       "     ltv_cum  \n",
       "0   4.990000  \n",
       "1   9.009842  \n",
       "2  12.583353  \n",
       "3  15.763635  \n",
       "4  18.588001  \n",
       "5  20.871317  "
      ]
     },
     "execution_count": 36,
     "metadata": {},
     "output_type": "execute_result"
    }
   ],
   "source": [
    "cohorts = cohorts.reset_index()\n",
    "cohorts_0107 = cohorts.query('week == \"2020-01-07\"')\n",
    "cohorts_0107"
   ]
  },
  {
   "cell_type": "code",
   "execution_count": 37,
   "metadata": {},
   "outputs": [
    {
     "data": {
      "text/html": [
       "<div>\n",
       "<style scoped>\n",
       "    .dataframe tbody tr th:only-of-type {\n",
       "        vertical-align: middle;\n",
       "    }\n",
       "\n",
       "    .dataframe tbody tr th {\n",
       "        vertical-align: top;\n",
       "    }\n",
       "\n",
       "    .dataframe thead th {\n",
       "        text-align: right;\n",
       "    }\n",
       "</style>\n",
       "<table border=\"1\" class=\"dataframe\">\n",
       "  <thead>\n",
       "    <tr style=\"text-align: right;\">\n",
       "      <th></th>\n",
       "      <th>lifetime</th>\n",
       "      <th>coef</th>\n",
       "    </tr>\n",
       "  </thead>\n",
       "  <tbody>\n",
       "    <tr>\n",
       "      <th>0</th>\n",
       "      <td>1</td>\n",
       "      <td>NaN</td>\n",
       "    </tr>\n",
       "    <tr>\n",
       "      <th>1</th>\n",
       "      <td>2</td>\n",
       "      <td>4.019842</td>\n",
       "    </tr>\n",
       "    <tr>\n",
       "      <th>2</th>\n",
       "      <td>3</td>\n",
       "      <td>3.573512</td>\n",
       "    </tr>\n",
       "    <tr>\n",
       "      <th>3</th>\n",
       "      <td>4</td>\n",
       "      <td>3.180282</td>\n",
       "    </tr>\n",
       "    <tr>\n",
       "      <th>4</th>\n",
       "      <td>5</td>\n",
       "      <td>2.824366</td>\n",
       "    </tr>\n",
       "    <tr>\n",
       "      <th>5</th>\n",
       "      <td>6</td>\n",
       "      <td>2.283316</td>\n",
       "    </tr>\n",
       "  </tbody>\n",
       "</table>\n",
       "</div>"
      ],
      "text/plain": [
       "   lifetime      coef\n",
       "0         1       NaN\n",
       "1         2  4.019842\n",
       "2         3  3.573512\n",
       "3         4  3.180282\n",
       "4         5  2.824366\n",
       "5         6  2.283316"
      ]
     },
     "execution_count": 37,
     "metadata": {},
     "output_type": "execute_result"
    }
   ],
   "source": [
    "cohorts_0 = cohorts_0107.copy(deep=True)\n",
    "for i in (1,2,3,4,5):\n",
    "    cohorts_0.loc[i,'coef'] = cohorts_0.loc[i,'ltv_cum'] - cohorts_0.loc[i-1,'ltv_cum']\n",
    "coef = cohorts_0[['lifetime', 'coef']]\n",
    "coef"
   ]
  },
  {
   "cell_type": "code",
   "execution_count": 38,
   "metadata": {},
   "outputs": [
    {
     "data": {
      "text/html": [
       "<div>\n",
       "<style scoped>\n",
       "    .dataframe tbody tr th:only-of-type {\n",
       "        vertical-align: middle;\n",
       "    }\n",
       "\n",
       "    .dataframe tbody tr th {\n",
       "        vertical-align: top;\n",
       "    }\n",
       "\n",
       "    .dataframe thead th {\n",
       "        text-align: right;\n",
       "    }\n",
       "</style>\n",
       "<table border=\"1\" class=\"dataframe\">\n",
       "  <thead>\n",
       "    <tr style=\"text-align: right;\">\n",
       "      <th></th>\n",
       "      <th>lifetime</th>\n",
       "      <th>coef</th>\n",
       "    </tr>\n",
       "  </thead>\n",
       "  <tbody>\n",
       "    <tr>\n",
       "      <th>24</th>\n",
       "      <td>25.0</td>\n",
       "      <td>2.283316</td>\n",
       "    </tr>\n",
       "    <tr>\n",
       "      <th>25</th>\n",
       "      <td>26.0</td>\n",
       "      <td>2.283316</td>\n",
       "    </tr>\n",
       "    <tr>\n",
       "      <th>26</th>\n",
       "      <td>27.0</td>\n",
       "      <td>2.283316</td>\n",
       "    </tr>\n",
       "  </tbody>\n",
       "</table>\n",
       "</div>"
      ],
      "text/plain": [
       "    lifetime      coef\n",
       "24      25.0  2.283316\n",
       "25      26.0  2.283316\n",
       "26      27.0  2.283316"
      ]
     },
     "execution_count": 38,
     "metadata": {},
     "output_type": "execute_result"
    }
   ],
   "source": [
    "for i in list(range(6, 27)):\n",
    "    coef.loc[i,'lifetime'] = (i+1)\n",
    "    coef.loc[i,'coef'] = 2.283316\n",
    "coef.tail(3)    "
   ]
  },
  {
   "cell_type": "markdown",
   "metadata": {},
   "source": [
    "Сформируем данные для каждой когорты и присоеденим к ним коэффициенты."
   ]
  },
  {
   "cell_type": "code",
   "execution_count": 39,
   "metadata": {},
   "outputs": [],
   "source": [
    "cohorts_0114 = cohorts.query('week == \"2020-01-14\"')\n",
    "cohorts_0121 = cohorts.query('week == \"2020-01-21\"')\n",
    "cohorts_0128 = cohorts.query('week == \"2020-01-28\"')\n",
    "cohorts_0204 = cohorts.query('week == \"2020-02-04\"')\n",
    "cohorts_0211 = cohorts.query('week == \"2020-02-11\"')"
   ]
  },
  {
   "cell_type": "code",
   "execution_count": 41,
   "metadata": {},
   "outputs": [],
   "source": [
    "cohorts_0107 = cohorts_0107.merge(coef, on = 'lifetime', how = 'right')\n",
    "cohorts_0107 = cohorts_0107.fillna(0)\n",
    "for i in range(len(cohorts_0107)):\n",
    "    if cohorts_0107.loc[i,'ltv'] == 0:\n",
    "        cohorts_0107.loc[i,'ltv_cum'] =  cohorts_0107.loc[i-1,'ltv_cum'] + cohorts_0107.loc[i,'coef']\n",
    "    else:\n",
    "        cohorts_0107.loc[i,'ltv_cum'] = cohorts_0107.loc[i,'ltv_cum']"
   ]
  },
  {
   "cell_type": "code",
   "execution_count": 42,
   "metadata": {},
   "outputs": [],
   "source": [
    "cohorts_0114 = cohorts_0114.merge(coef, on = 'lifetime', how = 'right')\n",
    "cohorts_0114 = cohorts_0114.fillna(0)\n",
    "for i in range(len(cohorts_0114)):\n",
    "    if cohorts_0114.loc[i,'ltv'] == 0:\n",
    "        cohorts_0114.loc[i,'ltv_cum'] =  cohorts_0114.loc[i-1,'ltv_cum'] + cohorts_0114.loc[i,'coef']\n",
    "    else:\n",
    "        cohorts_0114.loc[i,'ltv_cum'] = cohorts_0114.loc[i,'ltv_cum']        "
   ]
  },
  {
   "cell_type": "code",
   "execution_count": 43,
   "metadata": {},
   "outputs": [],
   "source": [
    "cohorts_0121 = cohorts_0121.merge(coef, on = 'lifetime', how = 'right')\n",
    "cohorts_0121 = cohorts_0121.fillna(0)\n",
    "for i in range(len(cohorts_0121)):\n",
    "    if cohorts_0121.loc[i,'ltv'] == 0:\n",
    "        cohorts_0121.loc[i,'ltv_cum'] =  cohorts_0121.loc[i-1,'ltv_cum'] + cohorts_0121.loc[i,'coef']\n",
    "    else:\n",
    "        cohorts_0121.loc[i,'ltv_cum'] = cohorts_0121.loc[i,'ltv_cum'] "
   ]
  },
  {
   "cell_type": "code",
   "execution_count": 44,
   "metadata": {},
   "outputs": [],
   "source": [
    "cohorts_0128 = cohorts_0128.merge(coef, on = 'lifetime', how = 'right')\n",
    "cohorts_0128 = cohorts_0128.fillna(0)\n",
    "for i in range(len(cohorts_0128)):\n",
    "    if cohorts_0128.loc[i,'ltv'] == 0:\n",
    "        cohorts_0128.loc[i,'ltv_cum'] =  cohorts_0128.loc[i-1,'ltv_cum'] + cohorts_0128.loc[i,'coef']\n",
    "    else:\n",
    "        cohorts_0128.loc[i,'ltv_cum'] = cohorts_0128.loc[i,'ltv_cum']"
   ]
  },
  {
   "cell_type": "code",
   "execution_count": 45,
   "metadata": {},
   "outputs": [],
   "source": [
    "cohorts_0204 = cohorts_0204.merge(coef, on = 'lifetime', how = 'right')\n",
    "cohorts_0204 = cohorts_0204.fillna(0)\n",
    "for i in range(len(cohorts_0204)):\n",
    "    if cohorts_0204.loc[i,'ltv'] == 0:\n",
    "        cohorts_0204.loc[i,'ltv_cum'] =  cohorts_0204.loc[i-1,'ltv_cum'] + cohorts_0204.loc[i,'coef']\n",
    "    else:\n",
    "        cohorts_0204.loc[i,'ltv_cum'] = cohorts_0204.loc[i,'ltv_cum']"
   ]
  },
  {
   "cell_type": "code",
   "execution_count": 46,
   "metadata": {},
   "outputs": [],
   "source": [
    "cohorts_0211 = cohorts_0211.merge(coef, on = 'lifetime', how = 'right')\n",
    "cohorts_0211 = cohorts_0211.fillna(0)\n",
    "for i in range(len(cohorts_0211)):\n",
    "    if cohorts_0211.loc[i,'ltv'] == 0:\n",
    "        cohorts_0211.loc[i,'ltv_cum'] =  cohorts_0211.loc[i-1,'ltv_cum'] + cohorts_0211.loc[i,'coef']\n",
    "    else:\n",
    "        cohorts_0211.loc[i,'ltv_cum'] = cohorts_0211.loc[i,'ltv_cum']"
   ]
  },
  {
   "cell_type": "markdown",
   "metadata": {},
   "source": [
    "Построим график"
   ]
  },
  {
   "cell_type": "code",
   "execution_count": 47,
   "metadata": {},
   "outputs": [
    {
     "data": {
      "image/png": "[encoded data removed]",
      "text/plain": [
       "<Figure size 864x360 with 1 Axes>"
      ]
     },
     "metadata": {
      "needs_background": "light"
     },
     "output_type": "display_data"
    }
   ],
   "source": [
    "plt.figure(figsize = (12,5))\n",
    "plt.plot(cohorts_0107['lifetime'], cohorts_0107['ltv_cum'], label='2020-01-07')\n",
    "plt.plot(cohorts_0114['lifetime'], cohorts_0114['ltv_cum'], label='2020-01-14')\n",
    "plt.plot(cohorts_0121['lifetime'], cohorts_0121['ltv_cum'], label='2020-01-21')\n",
    "plt.plot(cohorts_0128['lifetime'], cohorts_0128['ltv_cum'], label='2020-01-28')\n",
    "plt.plot(cohorts_0204['lifetime'], cohorts_0204['ltv_cum'], label='2020-02-04')\n",
    "plt.plot(cohorts_0211['lifetime'], cohorts_0211['ltv_cum'], label='2020-02-11')\n",
    "plt.xlabel('день')\n",
    "plt.ylabel('ltv с накоплением')\n",
    "plt.legend()\n",
    "plt.grid()\n",
    "plt.title('Прогноз ltv на 6 месяцев')\n",
    "plt.show()"
   ]
  },
  {
   "cell_type": "markdown",
   "metadata": {},
   "source": [
    "Ожидать значений LTV согласно графику не стоит.( Как только появятся новые данные необходимо вносить корректировки. Когда на графике реального LTV можно будет увидеть плато(график станет почти параллелен оси х), уже будет можно говорить о качественом прогнозе использую подобный подход.  "
   ]
  },
  {
   "cell_type": "markdown",
   "metadata": {},
   "source": [
    "### 4\n",
    "Рассчитать ROMI на 4 недели и на полгода, если стоимость привлечения платящего пользователя 6 USD (ROMI нужно брать операционный, а не бухгалтерский, цель: узнать как окупятся наши инвестиции."
   ]
  },
  {
   "cell_type": "code",
   "execution_count": 48,
   "metadata": {},
   "outputs": [
    {
     "data": {
      "text/html": [
       "<div>\n",
       "<style scoped>\n",
       "    .dataframe tbody tr th:only-of-type {\n",
       "        vertical-align: middle;\n",
       "    }\n",
       "\n",
       "    .dataframe tbody tr th {\n",
       "        vertical-align: top;\n",
       "    }\n",
       "\n",
       "    .dataframe thead th {\n",
       "        text-align: right;\n",
       "    }\n",
       "</style>\n",
       "<table border=\"1\" class=\"dataframe\">\n",
       "  <thead>\n",
       "    <tr style=\"text-align: right;\">\n",
       "      <th></th>\n",
       "      <th>lifetime</th>\n",
       "      <th>week</th>\n",
       "      <th>user_id</th>\n",
       "      <th>purchase_date</th>\n",
       "      <th>revenue</th>\n",
       "      <th>users</th>\n",
       "      <th>ltv</th>\n",
       "      <th>ltv_cum</th>\n",
       "    </tr>\n",
       "  </thead>\n",
       "  <tbody>\n",
       "    <tr>\n",
       "      <th>0</th>\n",
       "      <td>1</td>\n",
       "      <td>2020-01-07</td>\n",
       "      <td>3477</td>\n",
       "      <td>3478</td>\n",
       "      <td>17350.23</td>\n",
       "      <td>3477</td>\n",
       "      <td>4.990000</td>\n",
       "      <td>4.990000</td>\n",
       "    </tr>\n",
       "    <tr>\n",
       "      <th>1</th>\n",
       "      <td>2</td>\n",
       "      <td>2020-01-07</td>\n",
       "      <td>2801</td>\n",
       "      <td>2801</td>\n",
       "      <td>13976.99</td>\n",
       "      <td>3477</td>\n",
       "      <td>4.019842</td>\n",
       "      <td>9.009842</td>\n",
       "    </tr>\n",
       "    <tr>\n",
       "      <th>2</th>\n",
       "      <td>3</td>\n",
       "      <td>2020-01-07</td>\n",
       "      <td>2490</td>\n",
       "      <td>2490</td>\n",
       "      <td>12425.10</td>\n",
       "      <td>3477</td>\n",
       "      <td>3.573512</td>\n",
       "      <td>12.583353</td>\n",
       "    </tr>\n",
       "    <tr>\n",
       "      <th>3</th>\n",
       "      <td>4</td>\n",
       "      <td>2020-01-07</td>\n",
       "      <td>2216</td>\n",
       "      <td>2216</td>\n",
       "      <td>11057.84</td>\n",
       "      <td>3477</td>\n",
       "      <td>3.180282</td>\n",
       "      <td>15.763635</td>\n",
       "    </tr>\n",
       "    <tr>\n",
       "      <th>4</th>\n",
       "      <td>5</td>\n",
       "      <td>2020-01-07</td>\n",
       "      <td>1968</td>\n",
       "      <td>1968</td>\n",
       "      <td>9820.32</td>\n",
       "      <td>3477</td>\n",
       "      <td>2.824366</td>\n",
       "      <td>18.588001</td>\n",
       "    </tr>\n",
       "  </tbody>\n",
       "</table>\n",
       "</div>"
      ],
      "text/plain": [
       "   lifetime       week  user_id  purchase_date   revenue  users       ltv  \\\n",
       "0         1 2020-01-07     3477           3478  17350.23   3477  4.990000   \n",
       "1         2 2020-01-07     2801           2801  13976.99   3477  4.019842   \n",
       "2         3 2020-01-07     2490           2490  12425.10   3477  3.573512   \n",
       "3         4 2020-01-07     2216           2216  11057.84   3477  3.180282   \n",
       "4         5 2020-01-07     1968           1968   9820.32   3477  2.824366   \n",
       "\n",
       "     ltv_cum  \n",
       "0   4.990000  \n",
       "1   9.009842  \n",
       "2  12.583353  \n",
       "3  15.763635  \n",
       "4  18.588001  "
      ]
     },
     "execution_count": 48,
     "metadata": {},
     "output_type": "execute_result"
    }
   ],
   "source": [
    "cohorts.head()"
   ]
  },
  {
   "cell_type": "code",
   "execution_count": 49,
   "metadata": {},
   "outputs": [
    {
     "data": {
      "text/html": [
       "<div>\n",
       "<style scoped>\n",
       "    .dataframe tbody tr th:only-of-type {\n",
       "        vertical-align: middle;\n",
       "    }\n",
       "\n",
       "    .dataframe tbody tr th {\n",
       "        vertical-align: top;\n",
       "    }\n",
       "\n",
       "    .dataframe thead th {\n",
       "        text-align: right;\n",
       "    }\n",
       "</style>\n",
       "<table border=\"1\" class=\"dataframe\">\n",
       "  <thead>\n",
       "    <tr style=\"text-align: right;\">\n",
       "      <th></th>\n",
       "      <th>lifetime</th>\n",
       "      <th>week</th>\n",
       "      <th>user_id</th>\n",
       "      <th>purchase_date</th>\n",
       "      <th>revenue</th>\n",
       "      <th>users</th>\n",
       "      <th>ltv</th>\n",
       "      <th>ltv_cum</th>\n",
       "      <th>cum_revenue</th>\n",
       "      <th>marketing_cost</th>\n",
       "      <th>romi</th>\n",
       "    </tr>\n",
       "  </thead>\n",
       "  <tbody>\n",
       "    <tr>\n",
       "      <th>3</th>\n",
       "      <td>4</td>\n",
       "      <td>2020-01-07</td>\n",
       "      <td>2216</td>\n",
       "      <td>2216</td>\n",
       "      <td>11057.84</td>\n",
       "      <td>3477</td>\n",
       "      <td>3.180282</td>\n",
       "      <td>15.763635</td>\n",
       "      <td>54810.16</td>\n",
       "      <td>20862</td>\n",
       "      <td>1.627273</td>\n",
       "    </tr>\n",
       "    <tr>\n",
       "      <th>9</th>\n",
       "      <td>4</td>\n",
       "      <td>2020-01-14</td>\n",
       "      <td>1854</td>\n",
       "      <td>1857</td>\n",
       "      <td>9251.46</td>\n",
       "      <td>3023</td>\n",
       "      <td>3.060357</td>\n",
       "      <td>15.584052</td>\n",
       "      <td>47110.59</td>\n",
       "      <td>18138</td>\n",
       "      <td>1.597342</td>\n",
       "    </tr>\n",
       "    <tr>\n",
       "      <th>14</th>\n",
       "      <td>4</td>\n",
       "      <td>2020-01-21</td>\n",
       "      <td>1640</td>\n",
       "      <td>1640</td>\n",
       "      <td>8183.60</td>\n",
       "      <td>3125</td>\n",
       "      <td>2.618752</td>\n",
       "      <td>14.858224</td>\n",
       "      <td>46431.95</td>\n",
       "      <td>18750</td>\n",
       "      <td>1.476371</td>\n",
       "    </tr>\n",
       "  </tbody>\n",
       "</table>\n",
       "</div>"
      ],
      "text/plain": [
       "    lifetime       week  user_id  purchase_date   revenue  users       ltv  \\\n",
       "3          4 2020-01-07     2216           2216  11057.84   3477  3.180282   \n",
       "9          4 2020-01-14     1854           1857   9251.46   3023  3.060357   \n",
       "14         4 2020-01-21     1640           1640   8183.60   3125  2.618752   \n",
       "\n",
       "      ltv_cum  cum_revenue  marketing_cost      romi  \n",
       "3   15.763635     54810.16           20862  1.627273  \n",
       "9   15.584052     47110.59           18138  1.597342  \n",
       "14  14.858224     46431.95           18750  1.476371  "
      ]
     },
     "execution_count": 49,
     "metadata": {},
     "output_type": "execute_result"
    }
   ],
   "source": [
    "cohorts['cum_revenue']= cohorts.groupby('week')['revenue'].cumsum()\n",
    "cohorts['marketing_cost'] = 6 * cohorts['users']\n",
    "cohorts['romi'] = (cohorts['cum_revenue'] - cohorts['marketing_cost']) / cohorts['marketing_cost']\n",
    "cohorts.query('lifetime == 4')"
   ]
  },
  {
   "cell_type": "markdown",
   "metadata": {},
   "source": [
    "Данные за 4 недели есть только по 3-м когортам. ROMI для них равно соответсвенно 1,63 1,6 и 1,48. Что бы посмотреть тенденцию и других когорт построим график."
   ]
  },
  {
   "cell_type": "code",
   "execution_count": 50,
   "metadata": {},
   "outputs": [
    {
     "data": {
      "image/png": "[encoded data removed]",
      "text/plain": [
       "<Figure size 1440x432 with 1 Axes>"
      ]
     },
     "metadata": {
      "needs_background": "light"
     },
     "output_type": "display_data"
    }
   ],
   "source": [
    "cohorts.set_index('lifetime', inplace=True)\n",
    "cohorts.groupby('week')['romi'].plot(legend=True, grid = True, figsize = (20,6),title = 'ROMI')\n",
    "plt.xticks(cohorts.index.tolist())\n",
    "plt.legend()\n",
    "plt.show()"
   ]
  },
  {
   "cell_type": "markdown",
   "metadata": {},
   "source": [
    "По графику видно что на окупаемость когорты выходят на 2-ой неделе. Более \"старая\" когорта демонстрирует самые высокие показатели. Строить график прогноза на полгода нет смысла, слишком мало исходных данных. и в целом он будет похож на график LTV."
   ]
  },
  {
   "cell_type": "markdown",
   "metadata": {},
   "source": [
    "Рассчитаем Romi на полгода вперед для когорты \"2020-01-07\""
   ]
  },
  {
   "cell_type": "code",
   "execution_count": 51,
   "metadata": {},
   "outputs": [
    {
     "name": "stdout",
     "output_type": "stream",
     "text": [
      "Разница между 5 и 6 неделями для когорты \"2020-01-07\" составляет: 0.38\n"
     ]
    }
   ],
   "source": [
    "cohorts = cohorts.reset_index()\n",
    "cohorts_1 = cohorts.query('week == \"2020-01-07\"')\n",
    "coef2 = cohorts_1.loc[5,'romi'] - cohorts_1.loc[4,'romi']\n",
    "coef2\n",
    "print('Разница между 5 и 6 неделями для когорты \"2020-01-07\" составляет: {:.2f}'.format(coef2))"
   ]
  },
  {
   "cell_type": "markdown",
   "metadata": {},
   "source": [
    "Допустим что эта тенденция роста сохранится и дальше"
   ]
  },
  {
   "cell_type": "code",
   "execution_count": 52,
   "metadata": {},
   "outputs": [
    {
     "name": "stdout",
     "output_type": "stream",
     "text": [
      "Предсказанный ROMI для когорты \"2020-01-07\" составит: 12.37\n"
     ]
    }
   ],
   "source": [
    "ROMI_27 = cohorts_1.loc[5,'romi'] + coef2*26   \n",
    "print('Предсказанный ROMI для когорты \"2020-01-07\" составит: {:.2f}'.format(ROMI_27))"
   ]
  }
 ],
 "metadata": {
  "kernelspec": {
   "display_name": "Python 3",
   "language": "python",
   "name": "python3"
  },
  "language_info": {
   "codemirror_mode": {
    "name": "ipython",
    "version": 3
   },
   "file_extension": ".py",
   "mimetype": "text/x-python",
   "name": "python",
   "nbconvert_exporter": "python",
   "pygments_lexer": "ipython3",
   "version": "3.8.5"
  }
 },
 "nbformat": 4,
 "nbformat_minor": 4
}
